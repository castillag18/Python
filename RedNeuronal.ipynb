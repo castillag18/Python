{
  "nbformat": 4,
  "nbformat_minor": 0,
  "metadata": {
    "colab": {
      "name": "RedNeuronal.ipynb",
      "provenance": [],
      "authorship_tag": "ABX9TyNBljkAOO5M0IrHV2jG4p/r",
      "include_colab_link": true
    },
    "kernelspec": {
      "name": "python3",
      "display_name": "Python 3"
    },
    "language_info": {
      "name": "python"
    },
    "accelerator": "TPU"
  },
  "cells": [
    {
      "cell_type": "markdown",
      "metadata": {
        "id": "view-in-github",
        "colab_type": "text"
      },
      "source": [
        "<a href=\"https://colab.research.google.com/github/castillag18/Python/blob/master/RedNeuronal.ipynb\" target=\"_parent\"><img src=\"https://colab.research.google.com/assets/colab-badge.svg\" alt=\"Open In Colab\"/></a>"
      ]
    },
    {
      "cell_type": "code",
      "metadata": {
        "id": "7ZYsM-HllKcA"
      },
      "source": [
        "import tensorflow as tf\n",
        "import numpy as np"
      ],
      "execution_count": 6,
      "outputs": []
    },
    {
      "cell_type": "code",
      "metadata": {
        "id": "J_nLnecXlWxQ"
      },
      "source": [
        "celsius = np.array([-40, -10, 0, 8, 5, 22, 38], dtype=float)\n",
        "fahrenheit = np.array([-40, 14, 32, 46, 59, 74, 100], dtype=float)"
      ],
      "execution_count": 7,
      "outputs": []
    },
    {
      "cell_type": "code",
      "metadata": {
        "id": "zeiBUaRilbF1"
      },
      "source": [
        "#capa = tf.keras.layers.Dense(units=1, input_shape=[1])\n",
        "#modelo = tf.keras.Sequential([capa])\n",
        "capa1=tf.keras.layers.Dense(units=4, input_shape=[1])\n",
        "capa2=tf.keras.layers.Dense(units=4)\n",
        "capa3=tf.keras.layers.Dense(units=4)\n",
        "salida=tf.keras.layers.Dense(units=1)\n",
        "modelo = tf.keras.Sequential([capa1, capa2, capa3, salida])"
      ],
      "execution_count": 89,
      "outputs": []
    },
    {
      "cell_type": "code",
      "metadata": {
        "id": "QvnMHAI9mX-v"
      },
      "source": [
        "modelo.compile(\n",
        "    optimizer=tf.keras.optimizers.Adam(0.1),\n",
        "    loss='mean_squared_error'\n",
        ")"
      ],
      "execution_count": 90,
      "outputs": []
    },
    {
      "cell_type": "code",
      "metadata": {
        "colab": {
          "base_uri": "https://localhost:8080/"
        },
        "id": "NwSJhZbuo_cg",
        "outputId": "b4541f4b-f3bb-4e37-fcbb-acac3537c77b"
      },
      "source": [
        "print('Empezando Entrenamiento...')\n",
        "historial = modelo.fit(celsius, fahrenheit, epochs=1000, verbose=False)\n",
        "print('Entrenamiento Terminado')"
      ],
      "execution_count": 91,
      "outputs": [
        {
          "output_type": "stream",
          "name": "stdout",
          "text": [
            "Empezando Entrenamiento...\n",
            "Entrenamiento Terminado\n"
          ]
        }
      ]
    },
    {
      "cell_type": "code",
      "metadata": {
        "colab": {
          "base_uri": "https://localhost:8080/",
          "height": 296
        },
        "id": "OHas8tNcxPUp",
        "outputId": "a667a585-63c4-44ba-8154-57612bb52ee7"
      },
      "source": [
        "import matplotlib.pyplot as plt\n",
        "plt.xlabel(\"# Epoca\")\n",
        "plt.ylabel(\"# Magnitud de perdida\")\n",
        "plt.plot(historial.history[\"loss\"])"
      ],
      "execution_count": 92,
      "outputs": [
        {
          "output_type": "execute_result",
          "data": {
            "text/plain": [
              "[<matplotlib.lines.Line2D at 0x7f007a717f50>]"
            ]
          },
          "metadata": {},
          "execution_count": 92
        },
        {
          "output_type": "display_data",
          "data": {
            "image/png": "[encoded data removed]",
            "text/plain": [
              "<Figure size 432x288 with 1 Axes>"
            ]
          },
          "metadata": {
            "needs_background": "light"
          }
        }
      ]
    },
    {
      "cell_type": "code",
      "metadata": {
        "colab": {
          "base_uri": "https://localhost:8080/"
        },
        "id": "_k7f5tzsyfjf",
        "outputId": "ef5252eb-6d4f-4c12-8ec8-eb148a35ca91"
      },
      "source": [
        "print('Prediccion')\n",
        "resultado = modelo.predict([100.0])\n",
        "print('El resultado es: ' + str(resultado) + ' Fahrenheit')"
      ],
      "execution_count": 93,
      "outputs": [
        {
          "output_type": "stream",
          "name": "stdout",
          "text": [
            "Prediccion\n",
            "El resultado es: [[216.39355]] Fahrenheit\n"
          ]
        }
      ]
    },
    {
      "cell_type": "code",
      "metadata": {
        "colab": {
          "base_uri": "https://localhost:8080/"
        },
        "id": "iRU2arbq2_OI",
        "outputId": "7a8de79c-894f-4755-d1f2-567aba80eb60"
      },
      "source": [
        "print('Variables internas del modelo')\n",
        "#print(capa.get_weights())\n",
        "print(capa1.get_weights())\n",
        "print(capa2.get_weights())\n",
        "print(capa3.get_weights())\n",
        "print(salida.get_weights())"
      ],
      "execution_count": 94,
      "outputs": [
        {
          "output_type": "stream",
          "name": "stdout",
          "text": [
            "Variables internas del modelo\n",
            "[array([[ 0.2658923 ,  0.3238522 , -0.36305833, -0.13794282]],\n",
            "      dtype=float32), array([ 0.94898397,  2.3491566 , -2.683657  , -2.457562  ], dtype=float32)]\n",
            "[array([[ 0.12643915, -0.0680043 , -0.00363542, -0.74209243],\n",
            "       [-0.20177685, -0.9359044 , -0.73697025, -1.1889751 ],\n",
            "       [ 0.12317484, -1.0723381 , -0.72121406,  0.3143219 ],\n",
            "       [ 0.11825077,  0.29875666,  0.65694124,  1.315437  ]],\n",
            "      dtype=float32), array([-1.8715311,  2.379037 , -1.4909791, -3.0349298], dtype=float32)]\n",
            "[array([[ 0.06781737, -1.4304397 ,  0.29870683, -0.11596399],\n",
            "       [ 0.19180517,  1.0682193 , -0.02788608, -0.632888  ],\n",
            "       [-0.09787449, -0.00213858,  0.11989074,  0.03266946],\n",
            "       [-0.7184549 , -1.36922   ,  0.53919244,  1.0573453 ]],\n",
            "      dtype=float32), array([ 1.9023484,  3.0431378, -1.876403 , -1.8256733], dtype=float32)]\n",
            "[array([[ 0.03883833],\n",
            "       [ 1.2794747 ],\n",
            "       [-0.03251524],\n",
            "       [-0.03241173]], dtype=float32), array([2.821332], dtype=float32)]\n"
          ]
        }
      ]
    }
  ]
}